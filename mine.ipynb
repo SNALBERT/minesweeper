{
 "cells": [
  {
   "cell_type": "code",
   "execution_count": 44,
   "metadata": {
    "ExecuteTime": {
     "end_time": "2018-08-22T05:06:43.658958Z",
     "start_time": "2018-08-22T05:06:43.298003Z"
    }
   },
   "outputs": [],
   "source": [
    "import numpy as np\n",
    "import random\n",
    "from sys import exit\n",
    "class MineField:\n",
    "    def __init__(self):\n",
    "        pass\n",
    "    \n",
    "    def new(self, size, mine_num, first=None): # size = w, h\n",
    "        width, height = size\n",
    "        self.field = np.empty((width, height),dtype=int)\n",
    "        self.digged = []\n",
    "        self.death = False\n",
    "        self.quit = False\n",
    "        \n",
    "        nums = np.arange(width*height)\n",
    "        \n",
    "        if first is not None:\n",
    "            nums = nums[~np.vectorize(lambda x: x in [w*height+h for w, h in self.adjacentcell(first)])(nums)]\n",
    "\n",
    "        self.mines = [(point//height,point%height) for point in np.random.choice(nums, mine_num, replace=False)]\n",
    "\n",
    "        for h in range(height):\n",
    "            for w in range(width):\n",
    "                self.field[w,h] = self.calcdigit((w,h))\n",
    "        \n",
    "    def draw(self, mine=False):\n",
    "        width, height = self.field.shape\n",
    "        to_zenkaku = dict(zip(range(9),'×１２３４５６７８'))\n",
    "        \n",
    "        print('　ＡＢＣＤＥＦＧＨＩＪＫＬＭＮＯＰＱＲＳＴＵＶＷＸＹＺ'[:width+1])\n",
    "        for h in range(height):\n",
    "            #if h < 20: print('①②③④⑤⑥⑦⑧⑨⑩⑪⑫⑬⑭⑮⑯⑰⑱⑲⑳'[h],end='')\n",
    "            #else: print(h+1,end='')\n",
    "            print(f'{h+1:2}',end='')\n",
    "            for w in range(width):\n",
    "                if mine and ((w,h) in self.mines):\n",
    "                    char = '＊'\n",
    "                elif (w,h) in self.digged:\n",
    "                    char = to_zenkaku[self.field[w,h]]\n",
    "                else:\n",
    "                    char = '・'\n",
    "                print(char,end='')\n",
    "            print('')\n",
    "    \n",
    "    def start(self, size=(10,10), mine_num=10, renew=True, renew_first_safe=True):       \n",
    "        #if not renew: ignore renew_first_safe\n",
    "        if renew:\n",
    "            from functools import reduce\n",
    "            fieldsize = reduce(lambda x,y: x*y, size)\n",
    "            if not 0 < mine_num <= fieldsize - 9:\n",
    "                print('Too many or few mines')\n",
    "                return\n",
    "            if renew_first_safe:\n",
    "                t=MineField(); t.new(size=size, mine_num=mine_num); t.draw(); del t\n",
    "                self.quit=False\n",
    "                first = self.command(size)\n",
    "                if self.quit: return\n",
    "                self.new(size=size, mine_num=mine_num, first=first)\n",
    "                self.autodig(first)\n",
    "            else:\n",
    "                self.new(size=size, mine_num=mine_num)\n",
    "            \n",
    "        while len(self.digged) < self.field.size - len(self.mines) and not self.death and not self.quit:\n",
    "            self.draw()\n",
    "            self.dig()\n",
    "        if self.quit: return\n",
    "        self.draw(True)\n",
    "        return 'You lose' if self.death else 'You win!'\n",
    "    \n",
    "    def command(self, size):\n",
    "        width, height = size\n",
    "        while True:\n",
    "            stri = input('command: ')\n",
    "            if 'quit' in stri.lower():\n",
    "                self.quit = True\n",
    "                return None, None\n",
    "            try:\n",
    "                w=ord(stri[0].upper())-ord('A')\n",
    "                h=int(''.join([ch for ch in stri if ch.isdigit()]))-1\n",
    "                if w < width and h < height: break\n",
    "            except: pass\n",
    "            try: exec(stri)\n",
    "            except: pass\n",
    "            #(continue)\n",
    "        return (w,h)\n",
    "    \n",
    "    def dig(self):\n",
    "        w,h=self.command(self.field.shape)\n",
    "        if self.quit: return\n",
    "        self.autodig((w,h))\n",
    "\n",
    "    def autodig(self, point):\n",
    "        if point in self.digged: return\n",
    "        if point in self.mines: self.death = True\n",
    "        self.digged.append(point)\n",
    "        if self.field[point] == 0: [self.autodig(adjs) for adjs in self.adjacentcell(point)]\n",
    "                      \n",
    "    def calcdigit(self, point):\n",
    "        return len(set(self.adjacentcell(point)) & set(self.mines))\n",
    "            \n",
    "    def adjacentcell(self, point):\n",
    "        width, height = self.field.shape\n",
    "        w, h = point\n",
    "        return [(x, y) for y in (h-1, h, h+1) for x in (w-1, w, w+1) if 0 <= x < width and 0 <= y < height]\n",
    "    \n",
    "    def undo(self):\n",
    "        self.digged = self.digged[:-1]\n",
    "        self.death = False\n",
    "    "
   ]
  },
  {
   "cell_type": "code",
   "execution_count": 47,
   "metadata": {
    "ExecuteTime": {
     "end_time": "2018-08-22T05:07:26.812615Z",
     "start_time": "2018-08-22T05:07:19.828730Z"
    }
   },
   "outputs": [
    {
     "name": "stdout",
     "output_type": "stream",
     "text": [
      "　ＡＢＣＤＥＦＧＨＩＪ\n",
      " 1・・・・・・・・・・\n",
      " 2・・・・・・・・・・\n",
      " 3・・・・・・・・・・\n",
      " 4・・・・・・・・・・\n",
      " 5・・・・・・・・・・\n",
      " 6・・・・・・・・・・\n",
      " 7・・・・・・・・・・\n",
      " 8・・・・・・・・・・\n",
      " 9・・・・・・・・・・\n",
      "10・・・・・・・・・・\n",
      "command: d3\n",
      "　ＡＢＣＤＥＦＧＨＩＪ\n",
      " 1＊＊＊＊＊＊＊＊＊＊\n",
      " 2＊＊５３５＊＊＊＊＊\n",
      " 3＊＊３×３＊＊＊＊＊\n",
      " 4＊＊５３５＊＊＊＊＊\n",
      " 5＊＊＊＊＊＊＊＊＊＊\n",
      " 6＊＊＊＊＊＊＊＊＊＊\n",
      " 7＊＊＊＊＊＊＊＊＊＊\n",
      " 8＊＊＊＊＊＊＊＊＊＊\n",
      " 9＊＊＊＊＊＊＊＊＊＊\n",
      "10＊＊＊＊＊＊＊＊＊＊\n"
     ]
    },
    {
     "data": {
      "text/plain": [
       "'You win!'"
      ]
     },
     "execution_count": 47,
     "metadata": {},
     "output_type": "execute_result"
    }
   ],
   "source": [
    "m = MineField()\n",
    "m.start((10,10),91)"
   ]
  },
  {
   "cell_type": "code",
   "execution_count": null,
   "metadata": {},
   "outputs": [],
   "source": []
  }
 ],
 "metadata": {
  "kernelspec": {
   "display_name": "Python 3",
   "language": "python",
   "name": "python3"
  }
 },
 "nbformat": 4,
 "nbformat_minor": 2
}
